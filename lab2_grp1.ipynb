{
  "nbformat": 4,
  "nbformat_minor": 0,
  "metadata": {
    "colab": {
      "name": "lab2_grp1.ipynb",
      "provenance": [],
      "authorship_tag": "ABX9TyNCFt6w9Bh9IGRUCQ7cqoD7",
      "include_colab_link": true
    },
    "kernelspec": {
      "name": "python3",
      "display_name": "Python 3"
    },
    "language_info": {
      "name": "python"
    }
  },
  "cells": [
    {
      "cell_type": "markdown",
      "metadata": {
        "id": "view-in-github",
        "colab_type": "text"
      },
      "source": [
        "<a href=\"https://colab.research.google.com/github/gaurav8901/Machine-Learning-/blob/main/lab2_grp1.ipynb\" target=\"_parent\"><img src=\"https://colab.research.google.com/assets/colab-badge.svg\" alt=\"Open In Colab\"/></a>"
      ]
    },
    {
      "cell_type": "code",
      "metadata": {
        "id": "Bixt56sDRvXb"
      },
      "source": [
        "# Q1. "
      ],
      "execution_count": 6,
      "outputs": []
    },
    {
      "cell_type": "code",
      "metadata": {
        "colab": {
          "base_uri": "https://localhost:8080/"
        },
        "id": "P3j76nesSBxZ",
        "outputId": "3012fe6d-5fcd-4984-a048-07038d346883"
      },
      "source": [
        "import pandas as pd\n",
        "# read the csv file\n",
        "file1=pd.read_csv('student_scores.csv')\n",
        "print('csv file: \\n',file1)"
      ],
      "execution_count": 7,
      "outputs": [
        {
          "output_type": "stream",
          "text": [
            "csv file: \n",
            "     Hours  Scores\n",
            "0     2.5      21\n",
            "1     5.1      47\n",
            "2     3.2      27\n",
            "3     8.5      75\n",
            "4     3.5      30\n",
            "5     1.5      20\n",
            "6     9.2      88\n",
            "7     5.5      60\n",
            "8     8.3      81\n",
            "9     2.7      25\n",
            "10    7.7      85\n",
            "11    5.9      62\n",
            "12    4.5      41\n",
            "13    3.3      42\n",
            "14    1.1      17\n",
            "15    8.9      95\n",
            "16    2.5      30\n",
            "17    1.9      24\n",
            "18    6.1      67\n",
            "19    7.4      69\n",
            "20    2.7      30\n",
            "21    4.8      54\n",
            "22    3.8      35\n",
            "23    6.9      76\n",
            "24    7.8      86\n"
          ],
          "name": "stdout"
        }
      ]
    },
    {
      "cell_type": "code",
      "metadata": {
        "colab": {
          "base_uri": "https://localhost:8080/"
        },
        "id": "RA5s9h_gScDM",
        "outputId": "688a8278-4ba7-4a21-9136-7600e5e130c4"
      },
      "source": [
        "# total number of rows and total number of columns\n",
        "\n",
        "print(file1.shape)"
      ],
      "execution_count": 8,
      "outputs": [
        {
          "output_type": "stream",
          "text": [
            "(25, 2)\n"
          ],
          "name": "stdout"
        }
      ]
    },
    {
      "cell_type": "code",
      "metadata": {
        "colab": {
          "base_uri": "https://localhost:8080/"
        },
        "id": "oIPVFlq6V53o",
        "outputId": "af02c3c7-8a45-4e40-c0d4-64b8431a5285"
      },
      "source": [
        "# features\n",
        "print(file1.columns)"
      ],
      "execution_count": 28,
      "outputs": [
        {
          "output_type": "stream",
          "text": [
            "Index(['Hours', 'Scores'], dtype='object')\n"
          ],
          "name": "stdout"
        }
      ]
    },
    {
      "cell_type": "code",
      "metadata": {
        "colab": {
          "base_uri": "https://localhost:8080/"
        },
        "id": "BxatUdnpXtK0",
        "outputId": "49258030-ff75-4b43-ba0a-94e6b021147d"
      },
      "source": [
        "# no of features\n",
        "print(file1.shape[0])"
      ],
      "execution_count": 30,
      "outputs": [
        {
          "output_type": "stream",
          "text": [
            "25\n"
          ],
          "name": "stdout"
        }
      ]
    },
    {
      "cell_type": "code",
      "metadata": {
        "colab": {
          "base_uri": "https://localhost:8080/"
        },
        "id": "pa29uCkxWBRb",
        "outputId": "0910c218-890d-4fef-9026-17f48e1e06d0"
      },
      "source": [
        "#  patterns\n",
        "print(file1.index)"
      ],
      "execution_count": 31,
      "outputs": [
        {
          "output_type": "stream",
          "text": [
            "RangeIndex(start=0, stop=25, step=1)\n"
          ],
          "name": "stdout"
        }
      ]
    },
    {
      "cell_type": "code",
      "metadata": {
        "colab": {
          "base_uri": "https://localhost:8080/"
        },
        "id": "2NoTJkRhX6gR",
        "outputId": "acf1bceb-42d8-4a2d-db64-dbc5d3e9d708"
      },
      "source": [
        "# no of patterns\n",
        "print(file1.shape[1])"
      ],
      "execution_count": 32,
      "outputs": [
        {
          "output_type": "stream",
          "text": [
            "2\n"
          ],
          "name": "stdout"
        }
      ]
    },
    {
      "cell_type": "code",
      "metadata": {
        "colab": {
          "base_uri": "https://localhost:8080/"
        },
        "id": "GUAWi9uEW-5W",
        "outputId": "8e310893-d06f-4709-d75e-2128407b9358"
      },
      "source": [
        "# range of input\n",
        "print(f\"{min(file1['Hours']), max(file1['Hours'])}\")"
      ],
      "execution_count": 11,
      "outputs": [
        {
          "output_type": "stream",
          "text": [
            "(1.1, 9.2)\n"
          ],
          "name": "stdout"
        }
      ]
    },
    {
      "cell_type": "code",
      "metadata": {
        "colab": {
          "base_uri": "https://localhost:8080/"
        },
        "id": "QtPhHBJpWHCJ",
        "outputId": "488321ce-7ae1-4292-fb9c-5558eea6ec83"
      },
      "source": [
        "# range of output\n",
        "print(f\"{min(file1['Scores']), max(file1['Scores'])}\")"
      ],
      "execution_count": 12,
      "outputs": [
        {
          "output_type": "stream",
          "text": [
            "(17, 95)\n"
          ],
          "name": "stdout"
        }
      ]
    },
    {
      "cell_type": "code",
      "metadata": {
        "id": "PRkRUZThSfzn"
      },
      "source": [
        ""
      ],
      "execution_count": 32,
      "outputs": []
    },
    {
      "cell_type": "code",
      "metadata": {
        "id": "a_8wga0BYzRT"
      },
      "source": [
        "# Q2."
      ],
      "execution_count": 33,
      "outputs": []
    },
    {
      "cell_type": "code",
      "metadata": {
        "id": "sM0xNSqFY0rI"
      },
      "source": [
        ""
      ],
      "execution_count": null,
      "outputs": []
    },
    {
      "cell_type": "code",
      "metadata": {
        "id": "rAHlrDsIWsyd"
      },
      "source": [
        "# Q3."
      ],
      "execution_count": 13,
      "outputs": []
    },
    {
      "cell_type": "code",
      "metadata": {
        "colab": {
          "base_uri": "https://localhost:8080/"
        },
        "id": "4cZzrR_TbUOn",
        "outputId": "861f9ed9-9f1d-45e0-eb79-fcab0ef30a61"
      },
      "source": [
        "# column-wise\n",
        "# describe() gives multiple details at a time (column-wise)\n",
        "print(file1.describe())"
      ],
      "execution_count": 14,
      "outputs": [
        {
          "output_type": "stream",
          "text": [
            "           Hours     Scores\n",
            "count  25.000000  25.000000\n",
            "mean    5.012000  51.480000\n",
            "std     2.525094  25.286887\n",
            "min     1.100000  17.000000\n",
            "25%     2.700000  30.000000\n",
            "50%     4.800000  47.000000\n",
            "75%     7.400000  75.000000\n",
            "max     9.200000  95.000000\n"
          ],
          "name": "stdout"
        }
      ]
    },
    {
      "cell_type": "code",
      "metadata": {
        "colab": {
          "base_uri": "https://localhost:8080/"
        },
        "id": "8xlOfDbCcJsZ",
        "outputId": "9aa33440-cfcf-4ca4-a055-7402f258d48b"
      },
      "source": [
        "print(file1['Hours'].mean())"
      ],
      "execution_count": 15,
      "outputs": [
        {
          "output_type": "stream",
          "text": [
            "5.012\n"
          ],
          "name": "stdout"
        }
      ]
    },
    {
      "cell_type": "code",
      "metadata": {
        "colab": {
          "base_uri": "https://localhost:8080/"
        },
        "id": "qyIN64H7czQ8",
        "outputId": "58c9608d-57f1-4c5b-e026-c99bd3089c9b"
      },
      "source": [
        "print(file1['Hours'].median())"
      ],
      "execution_count": 16,
      "outputs": [
        {
          "output_type": "stream",
          "text": [
            "4.8\n"
          ],
          "name": "stdout"
        }
      ]
    },
    {
      "cell_type": "code",
      "metadata": {
        "colab": {
          "base_uri": "https://localhost:8080/"
        },
        "id": "-yy8Vmg3c0-d",
        "outputId": "bc1aa5fe-ab0a-4501-d973-d90e929ac537"
      },
      "source": [
        "print(file1['Hours'].mode())"
      ],
      "execution_count": 17,
      "outputs": [
        {
          "output_type": "stream",
          "text": [
            "0    2.5\n",
            "1    2.7\n",
            "dtype: float64\n"
          ],
          "name": "stdout"
        }
      ]
    },
    {
      "cell_type": "code",
      "metadata": {
        "colab": {
          "base_uri": "https://localhost:8080/"
        },
        "id": "jHfuNC8Qc3Hq",
        "outputId": "4ee6e444-0bdb-41b3-8514-096a0c4af3e5"
      },
      "source": [
        "print(file1['Hours'].std())"
      ],
      "execution_count": 18,
      "outputs": [
        {
          "output_type": "stream",
          "text": [
            "2.5250940576540906\n"
          ],
          "name": "stdout"
        }
      ]
    },
    {
      "cell_type": "code",
      "metadata": {
        "colab": {
          "base_uri": "https://localhost:8080/"
        },
        "id": "UmrkEi-VcTpY",
        "outputId": "2be40d19-0606-4fb4-f782-ba2521472635"
      },
      "source": [
        "print(file1['Scores'].mean())"
      ],
      "execution_count": 19,
      "outputs": [
        {
          "output_type": "stream",
          "text": [
            "51.48\n"
          ],
          "name": "stdout"
        }
      ]
    },
    {
      "cell_type": "code",
      "metadata": {
        "colab": {
          "base_uri": "https://localhost:8080/"
        },
        "id": "-3ovydT7cgYu",
        "outputId": "ce4746b6-4ad5-4551-f23f-0d1085a5671e"
      },
      "source": [
        "print(file1['Scores'].median())"
      ],
      "execution_count": 20,
      "outputs": [
        {
          "output_type": "stream",
          "text": [
            "47.0\n"
          ],
          "name": "stdout"
        }
      ]
    },
    {
      "cell_type": "code",
      "metadata": {
        "colab": {
          "base_uri": "https://localhost:8080/"
        },
        "id": "ARBdRb6GdDB7",
        "outputId": "5b0544c2-c6a9-45a8-9133-90e2b069d74f"
      },
      "source": [
        "print(file1['Scores'].mode())"
      ],
      "execution_count": 21,
      "outputs": [
        {
          "output_type": "stream",
          "text": [
            "0    30\n",
            "dtype: int64\n"
          ],
          "name": "stdout"
        }
      ]
    },
    {
      "cell_type": "code",
      "metadata": {
        "colab": {
          "base_uri": "https://localhost:8080/"
        },
        "id": "p7t2Y43bdEy0",
        "outputId": "c8159a5a-69fe-4a46-ff6d-848ebd43c4aa"
      },
      "source": [
        "print(file1['Scores'].std())"
      ],
      "execution_count": 22,
      "outputs": [
        {
          "output_type": "stream",
          "text": [
            "25.28688724747802\n"
          ],
          "name": "stdout"
        }
      ]
    },
    {
      "cell_type": "code",
      "metadata": {
        "id": "OUCCclhMdGWB"
      },
      "source": [
        "\n",
        "# Row-wise\n",
        "# axis=0 argument calculates the column wise mean of the dataframe.\n",
        "# axis=1 is row wise mean so you are getting multiple values."
      ],
      "execution_count": 23,
      "outputs": []
    },
    {
      "cell_type": "code",
      "metadata": {
        "colab": {
          "base_uri": "https://localhost:8080/"
        },
        "id": "igF9yLitdKzs",
        "outputId": "b8330729-1079-4235-ba68-f0834d85e5b0"
      },
      "source": [
        "print(file1.mean(axis=1))"
      ],
      "execution_count": 24,
      "outputs": [
        {
          "output_type": "stream",
          "text": [
            "0     11.75\n",
            "1     26.05\n",
            "2     15.10\n",
            "3     41.75\n",
            "4     16.75\n",
            "5     10.75\n",
            "6     48.60\n",
            "7     32.75\n",
            "8     44.65\n",
            "9     13.85\n",
            "10    46.35\n",
            "11    33.95\n",
            "12    22.75\n",
            "13    22.65\n",
            "14     9.05\n",
            "15    51.95\n",
            "16    16.25\n",
            "17    12.95\n",
            "18    36.55\n",
            "19    38.20\n",
            "20    16.35\n",
            "21    29.40\n",
            "22    19.40\n",
            "23    41.45\n",
            "24    46.90\n",
            "dtype: float64\n"
          ],
          "name": "stdout"
        }
      ]
    },
    {
      "cell_type": "code",
      "metadata": {
        "colab": {
          "base_uri": "https://localhost:8080/"
        },
        "id": "nuezfY3cddXX",
        "outputId": "88971f00-75c8-4d94-f90e-7897803ff815"
      },
      "source": [
        "print(file1.median(axis=1))"
      ],
      "execution_count": 25,
      "outputs": [
        {
          "output_type": "stream",
          "text": [
            "0     11.75\n",
            "1     26.05\n",
            "2     15.10\n",
            "3     41.75\n",
            "4     16.75\n",
            "5     10.75\n",
            "6     48.60\n",
            "7     32.75\n",
            "8     44.65\n",
            "9     13.85\n",
            "10    46.35\n",
            "11    33.95\n",
            "12    22.75\n",
            "13    22.65\n",
            "14     9.05\n",
            "15    51.95\n",
            "16    16.25\n",
            "17    12.95\n",
            "18    36.55\n",
            "19    38.20\n",
            "20    16.35\n",
            "21    29.40\n",
            "22    19.40\n",
            "23    41.45\n",
            "24    46.90\n",
            "dtype: float64\n"
          ],
          "name": "stdout"
        }
      ]
    },
    {
      "cell_type": "code",
      "metadata": {
        "colab": {
          "base_uri": "https://localhost:8080/"
        },
        "id": "rljp7Gu7do3o",
        "outputId": "da456436-adfd-4f55-e1b9-aeefd634f8ee"
      },
      "source": [
        "print(file1.mode(axis=1))"
      ],
      "execution_count": 26,
      "outputs": [
        {
          "output_type": "stream",
          "text": [
            "      0     1\n",
            "0   2.5  21.0\n",
            "1   5.1  47.0\n",
            "2   3.2  27.0\n",
            "3   8.5  75.0\n",
            "4   3.5  30.0\n",
            "5   1.5  20.0\n",
            "6   9.2  88.0\n",
            "7   5.5  60.0\n",
            "8   8.3  81.0\n",
            "9   2.7  25.0\n",
            "10  7.7  85.0\n",
            "11  5.9  62.0\n",
            "12  4.5  41.0\n",
            "13  3.3  42.0\n",
            "14  1.1  17.0\n",
            "15  8.9  95.0\n",
            "16  2.5  30.0\n",
            "17  1.9  24.0\n",
            "18  6.1  67.0\n",
            "19  7.4  69.0\n",
            "20  2.7  30.0\n",
            "21  4.8  54.0\n",
            "22  3.8  35.0\n",
            "23  6.9  76.0\n",
            "24  7.8  86.0\n"
          ],
          "name": "stdout"
        }
      ]
    },
    {
      "cell_type": "code",
      "metadata": {
        "colab": {
          "base_uri": "https://localhost:8080/"
        },
        "id": "jAG9K34vdrM4",
        "outputId": "4fa394a2-c28e-44bb-bed0-ce54d41d6d95"
      },
      "source": [
        "print(file1.std(axis=1))"
      ],
      "execution_count": 27,
      "outputs": [
        {
          "output_type": "stream",
          "text": [
            "0     13.081475\n",
            "1     29.627774\n",
            "2     16.829141\n",
            "3     47.022601\n",
            "4     18.738330\n",
            "5     13.081475\n",
            "6     55.720014\n",
            "7     38.537320\n",
            "8     51.406663\n",
            "9     15.768481\n",
            "10    54.659354\n",
            "11    39.668690\n",
            "12    25.809398\n",
            "13    27.365032\n",
            "14    11.242998\n",
            "15    60.881894\n",
            "16    19.445436\n",
            "17    15.627060\n",
            "18    43.062803\n",
            "19    43.557778\n",
            "20    19.304015\n",
            "21    34.789654\n",
            "22    22.061732\n",
            "23    48.861079\n",
            "24    55.295750\n",
            "dtype: float64\n"
          ],
          "name": "stdout"
        }
      ]
    },
    {
      "cell_type": "code",
      "metadata": {
        "id": "ekcBEGHydtT3"
      },
      "source": [
        ""
      ],
      "execution_count": 27,
      "outputs": []
    }
  ]
}