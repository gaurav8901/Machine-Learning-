{
  "nbformat": 4,
  "nbformat_minor": 0,
  "metadata": {
    "colab": {
      "name": "lab3_grp1.ipynb",
      "provenance": [],
      "authorship_tag": "ABX9TyMQmN7gOH4H4nwdIHAIVNB5",
      "include_colab_link": true
    },
    "kernelspec": {
      "name": "python3",
      "display_name": "Python 3"
    },
    "language_info": {
      "name": "python"
    }
  },
  "cells": [
    {
      "cell_type": "markdown",
      "metadata": {
        "id": "view-in-github",
        "colab_type": "text"
      },
      "source": [
        "<a href=\"https://colab.research.google.com/github/gaurav8901/Machine-Learning-/blob/main/lab3_grp1.ipynb\" target=\"_parent\"><img src=\"https://colab.research.google.com/assets/colab-badge.svg\" alt=\"Open In Colab\"/></a>"
      ]
    },
    {
      "cell_type": "code",
      "metadata": {
        "id": "6wHx_edWZAD_"
      },
      "source": [
        "import pandas as pd\n",
        "import numpy as np\n",
        "from matplotlib import pyplot\n",
        "import matplotlib.pyplot as plt\n",
        "from scipy import stats"
      ],
      "execution_count": 90,
      "outputs": []
    },
    {
      "cell_type": "code",
      "metadata": {
        "id": "M_RUzim3d7y8"
      },
      "source": [
        "\n",
        "# Q1."
      ],
      "execution_count": 91,
      "outputs": []
    },
    {
      "cell_type": "code",
      "metadata": {
        "id": "hELhA-IpZYrg"
      },
      "source": [
        "data = pd.read_csv(\"A3_Tuesday.csv - Sheet1.csv\")"
      ],
      "execution_count": 92,
      "outputs": []
    },
    {
      "cell_type": "code",
      "metadata": {
        "colab": {
          "base_uri": "https://localhost:8080/"
        },
        "id": "wRBXfqXsal3C",
        "outputId": "35d5cbde-f4e8-4834-e23d-03ff760d5e80"
      },
      "source": [
        "print(data)"
      ],
      "execution_count": 93,
      "outputs": [
        {
          "output_type": "stream",
          "text": [
            "     id  battery_power  dual_sim  ...  px_height  px_width  price_range\n",
            "0     1            842         0  ...         20       756            1\n",
            "1     2           1021         1  ...        905      1988            2\n",
            "2     3            563         1  ...       1263      1716            2\n",
            "3     4            615         0  ...       1216      1786            2\n",
            "4     5           1821         0  ...       1208      1212            1\n",
            "..  ...            ...       ...  ...        ...       ...          ...\n",
            "95   96           1137         0  ...        942      1179            3\n",
            "96   97           1355         0  ...        651       891            0\n",
            "97   98           1665         0  ...       1572      1684            2\n",
            "98   99            657         0  ...        476       961            0\n",
            "99  100            593         0  ...       1233      1317            1\n",
            "\n",
            "[100 rows x 8 columns]\n"
          ],
          "name": "stdout"
        }
      ]
    },
    {
      "cell_type": "code",
      "metadata": {
        "id": "2gD7_K9vanCq"
      },
      "source": [
        "# for excluding 1st column\n",
        "new_data = data.iloc[:,1:8]"
      ],
      "execution_count": 108,
      "outputs": []
    },
    {
      "cell_type": "code",
      "metadata": {
        "colab": {
          "base_uri": "https://localhost:8080/"
        },
        "id": "2B8RRy95p4RJ",
        "outputId": "5d819772-44f9-443c-8343-22d31e38b455"
      },
      "source": [
        "# 100 dimensions and each having 7 elements\n",
        "print(new_data.shape)"
      ],
      "execution_count": 109,
      "outputs": [
        {
          "output_type": "stream",
          "text": [
            "(100, 7)\n"
          ],
          "name": "stdout"
        }
      ]
    },
    {
      "cell_type": "code",
      "metadata": {
        "colab": {
          "base_uri": "https://localhost:8080/"
        },
        "id": "u40FzOSCb9p5",
        "outputId": "9cd4b5ea-98a3-4fc8-f7e5-356e26f3530b"
      },
      "source": [
        "# no of patterns (rows)\n",
        "print(new_data.shape[0])"
      ],
      "execution_count": 95,
      "outputs": [
        {
          "output_type": "stream",
          "text": [
            "100\n"
          ],
          "name": "stdout"
        }
      ]
    },
    {
      "cell_type": "code",
      "metadata": {
        "colab": {
          "base_uri": "https://localhost:8080/"
        },
        "id": "rYXAeftfcEdl",
        "outputId": "16687bd7-3208-494f-d3a5-0a279552e617"
      },
      "source": [
        "# no of features (rows)\n",
        "print(new_data.shape[1])"
      ],
      "execution_count": 96,
      "outputs": [
        {
          "output_type": "stream",
          "text": [
            "7\n"
          ],
          "name": "stdout"
        }
      ]
    },
    {
      "cell_type": "code",
      "metadata": {
        "colab": {
          "base_uri": "https://localhost:8080/"
        },
        "id": "S0zfleqVcJMP",
        "outputId": "ce389e29-7e9a-463b-f0f8-ce65ef20c4bf"
      },
      "source": [
        "range=[]\n",
        "# price_range is output\n",
        "maxi=data[\"price_range\"].max()\n",
        "mini=data[\"price_range\"].min()\n",
        "range.append(mini)\n",
        "range.append(maxi)\n",
        "print(range)"
      ],
      "execution_count": 97,
      "outputs": [
        {
          "output_type": "stream",
          "text": [
            "[0, 3]\n"
          ],
          "name": "stdout"
        }
      ]
    },
    {
      "cell_type": "code",
      "metadata": {
        "id": "6RvNs3yLc-RR"
      },
      "source": [
        "\n",
        "# Q2."
      ],
      "execution_count": 98,
      "outputs": []
    },
    {
      "cell_type": "code",
      "metadata": {
        "colab": {
          "base_uri": "https://localhost:8080/"
        },
        "id": "gbOtQyvld-Fs",
        "outputId": "8b1519f0-ea04-4b09-b2c5-5f60b2daaa39"
      },
      "source": [
        "split1 = data.sample(frac=0.1, random_state=10)\n",
        "split2 = data.sample(frac=0.9, random_state=10)\n",
        "print('x \\n')\n",
        "print(split1)\n",
        "print('y \\n')\n",
        "print(split2)"
      ],
      "execution_count": 99,
      "outputs": [
        {
          "output_type": "stream",
          "text": [
            "x \n",
            "\n",
            "    id  battery_power  dual_sim  ...  px_height  px_width  price_range\n",
            "19  20            682         0  ...        902      1064            1\n",
            "14  15           1866         0  ...        356       563            0\n",
            "43  44           1656         0  ...        880      1456            1\n",
            "37  38           1725         1  ...        609      1307            3\n",
            "66  67           1358         0  ...       1565      1858            3\n",
            "3    4            615         0  ...       1216      1786            2\n",
            "79  80           1103         1  ...        990      1486            1\n",
            "41  42           1646         0  ...       1725      1932            3\n",
            "38  39            790         1  ...        347       730            2\n",
            "68  69           1242         1  ...        459      1225            0\n",
            "\n",
            "[10 rows x 8 columns]\n",
            "y \n",
            "\n",
            "    id  battery_power  dual_sim  ...  px_height  px_width  price_range\n",
            "19  20            682         0  ...        902      1064            1\n",
            "14  15           1866         0  ...        356       563            0\n",
            "43  44           1656         0  ...        880      1456            1\n",
            "37  38           1725         1  ...        609      1307            3\n",
            "66  67           1358         0  ...       1565      1858            3\n",
            "..  ..            ...       ...  ...        ...       ...          ...\n",
            "54  55           1073         1  ...        690       804            2\n",
            "11  12           1520         0  ...        151      1005            3\n",
            "16  17            838         0  ...        984      1850            3\n",
            "36  37            589         1  ...        429       815            1\n",
            "40  41           1347         0  ...        434       967            2\n",
            "\n",
            "[90 rows x 8 columns]\n"
          ],
          "name": "stdout"
        }
      ]
    },
    {
      "cell_type": "code",
      "metadata": {
        "id": "Mfw_PIE6efHU"
      },
      "source": [
        "\n",
        "# Q3. "
      ],
      "execution_count": 100,
      "outputs": []
    },
    {
      "cell_type": "code",
      "metadata": {
        "colab": {
          "base_uri": "https://localhost:8080/"
        },
        "id": "luUlJ73Me5QN",
        "outputId": "0d5a2dee-4556-4f92-e103-7c1d1e45cdc3"
      },
      "source": [
        "l_data = list(new_data)\n",
        "for i in l_data:\n",
        "  print(i)\n",
        "  print('mean ', data[i].mean())\n",
        "  print('median ',data[i].median())\n",
        "  print('mode ',data[i].mode())\n",
        "  print('std. deviation ',data[i].std())\n",
        "  print('********************')"
      ],
      "execution_count": 101,
      "outputs": [
        {
          "output_type": "stream",
          "text": [
            "battery_power\n",
            "mean  1192.15\n",
            "median  1161.0\n",
            "mode  0    1821\n",
            "1    1866\n",
            "dtype: int64\n",
            "std. deviation  431.47773740807054\n",
            "********************\n",
            "dual_sim\n",
            "mean  0.59\n",
            "median  1.0\n",
            "mode  0    1\n",
            "dtype: int64\n",
            "std. deviation  0.4943110704237102\n",
            "********************\n",
            "int_memory\n",
            "mean  34.94\n",
            "median  38.5\n",
            "mode  0     9\n",
            "1    33\n",
            "dtype: int64\n",
            "std. deviation  18.493143692632785\n",
            "********************\n",
            "mobile_wt\n",
            "mean  143.27\n",
            "median  143.5\n",
            "mode  0    141\n",
            "1    159\n",
            "dtype: int64\n",
            "std. deviation  34.688179513773825\n",
            "********************\n",
            "px_height\n",
            "mean  692.92\n",
            "median  630.0\n",
            "mode  0     651\n",
            "1    1025\n",
            "dtype: int64\n",
            "std. deviation  432.48246721045757\n",
            "********************\n",
            "px_width\n",
            "mean  1241.79\n",
            "median  1220.5\n",
            "mode  0    1242\n",
            "1    1854\n",
            "dtype: int64\n",
            "std. deviation  410.4804107089127\n",
            "********************\n",
            "price_range\n",
            "mean  1.56\n",
            "median  2.0\n",
            "mode  0    3\n",
            "dtype: int64\n",
            "std. deviation  1.148736679833964\n",
            "********************\n"
          ],
          "name": "stdout"
        }
      ]
    },
    {
      "cell_type": "code",
      "metadata": {
        "colab": {
          "base_uri": "https://localhost:8080/"
        },
        "id": "4CWZ8a88gLAJ",
        "outputId": "8739cadf-ea1e-4fbd-d803-f4cfa76cc7c8"
      },
      "source": [
        "data['mean']=data.iloc[:,1:].mean(axis=1)\n",
        "print(data['mean'])\n",
        "print(\"mean \",data.stack().mean())\n",
        "print(\"median \",data.stack().median())\n",
        "print(\"mode \",data.stack().mode())\n",
        "print(\"std. deviation\",data.stack().std())"
      ],
      "execution_count": 102,
      "outputs": [
        {
          "output_type": "stream",
          "text": [
            "0     259.142857\n",
            "1     586.571429\n",
            "2     533.000000\n",
            "3     537.142857\n",
            "4     632.428571\n",
            "         ...    \n",
            "95    494.857143\n",
            "96    436.000000\n",
            "97    739.571429\n",
            "98    324.571429\n",
            "99    475.857143\n",
            "Name: mean, Length: 100, dtype: float64\n",
            "mean  425.57555555555564\n",
            "median  139.5\n",
            "mode  0    1.0\n",
            "dtype: float64\n",
            "std. deviation 539.265684936942\n"
          ],
          "name": "stdout"
        }
      ]
    },
    {
      "cell_type": "code",
      "metadata": {
        "colab": {
          "base_uri": "https://localhost:8080/"
        },
        "id": "g1L1s_ZhlbUJ",
        "outputId": "89ac092a-9fc9-4c2a-f58a-acb2b6398b76"
      },
      "source": [
        "over_all=new_data.to_numpy()\n",
        "print('overall mean:')\n",
        "print(\"mean \",over_all.mean())\n",
        "print(\"median \",np.median(over_all))\n",
        "print(\"mode \",stats.mode(over_all)[0])\n",
        "print(\"std. deviation \",np.std(over_all))"
      ],
      "execution_count": 103,
      "outputs": [
        {
          "output_type": "stream",
          "text": [
            "overall mean:\n",
            "mean  472.46\n",
            "median  139.5\n",
            "mode  [[1821    1    9  141  651 1242    3]]\n",
            "std. deviation  590.453268841586\n"
          ],
          "name": "stdout"
        }
      ]
    },
    {
      "cell_type": "code",
      "metadata": {
        "id": "6v9zKMcVg-Kp"
      },
      "source": [
        "\n",
        "# Q4.\n",
        "# using dataset of assign 2"
      ],
      "execution_count": 104,
      "outputs": []
    },
    {
      "cell_type": "code",
      "metadata": {
        "id": "z9jBVEUjhX-Q"
      },
      "source": [
        "old_data = pd.read_csv('student_scores.csv')"
      ],
      "execution_count": 105,
      "outputs": []
    },
    {
      "cell_type": "code",
      "metadata": {
        "colab": {
          "base_uri": "https://localhost:8080/",
          "height": 295
        },
        "id": "ryYYm68Mhx73",
        "outputId": "fd07aa13-fa06-49f7-f3d2-924863e9e7ed"
      },
      "source": [
        "x = old_data['Hours'].tolist()\n",
        "y = old_data['Scores'].tolist()\n",
        "plt.plot(x,y)\n",
        "# labelling\n",
        "plt.xlabel('x axis')\n",
        "plt.ylabel('y axis')\n",
        "plt.title('assign 2 graph ')\n",
        "plt.show()"
      ],
      "execution_count": 106,
      "outputs": [
        {
          "output_type": "display_data",
          "data": {
            "image/png": "[encoded data removed]",
            "text/plain": [
              "<Figure size 432x288 with 1 Axes>"
            ]
          },
          "metadata": {
            "needs_background": "light"
          }
        }
      ]
    },
    {
      "cell_type": "code",
      "metadata": {
        "id": "_YOegBAyiRxk"
      },
      "source": [
        ""
      ],
      "execution_count": 107,
      "outputs": []
    },
    {
      "cell_type": "code",
      "metadata": {
        "id": "1mgiO6Hti3MN"
      },
      "source": [
        ""
      ],
      "execution_count": 107,
      "outputs": []
    }
  ]
}